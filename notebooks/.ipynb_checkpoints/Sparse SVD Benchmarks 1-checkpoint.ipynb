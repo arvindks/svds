{
 "cells": [
  {
   "cell_type": "code",
   "execution_count": 3,
   "metadata": {
    "collapsed": true
   },
   "outputs": [],
   "source": [
    "import numpy as np\n",
    "import matplotlib.pyplot as plt\n",
    "%matplotlib inline\n",
    "from time import time\n",
    "\n",
    "from scipy.sparse import csc_matrix"
   ]
  },
  {
   "cell_type": "code",
   "execution_count": 2,
   "metadata": {
    "collapsed": false
   },
   "outputs": [],
   "source": [
    "def sparse_matrix(N1, N2, f, conversion=np.asarray, rseed=0):\n",
    "    \"\"\"create NxN matrix with an approximate fraction f of nonzero entries\"\"\"\n",
    "    rng = np.random.RandomState(rseed)\n",
    "    M = rng.rand(N1, N2)\n",
    "    M[M > f] = 0\n",
    "    return conversion(M)\n",
    "\n",
    "\n",
    "def time_svd(svdfunc, N1, N2, f, rseed=0, bestof=3, args=None, matfunc=np.asarray, **kwargs):\n",
    "    if args is None:\n",
    "        args = ()\n",
    "    \n",
    "    N1_N2_f = np.broadcast(N1, N2, f)\n",
    "    times = []\n",
    "    for (N1, N2, f) in N1_N2_f:\n",
    "        M = sparse_matrix(N1, N2, f, matfunc, rseed)\n",
    "        t_best = np.inf\n",
    "        \n",
    "        for i in range(bestof):\n",
    "            t0 = time()\n",
    "            res = svdfunc(M, *args, **kwargs)\n",
    "            t1 = time()\n",
    "            t_best = min(t_best, t1 - t0)\n",
    "            \n",
    "        times.append(t_best)\n",
    "    \n",
    "    return np.array(times).reshape(N1_N2_f.shape)\n",
    "\n",
    "\n",
    "def plot_propack(ax, N1, N2, f, k):\n",
    "    from pypropack import svdp\n",
    "    print \"computing execution times for propack...\"\n",
    "    t = time_svd(svdp, N1, N2, f, k=k, kmax=100,\n",
    "                 matfunc=csc_matrix)\n",
    "    ax.plot(N1, t, label='propack (k=%i)' % k)\n",
    "\n",
    "\n",
    "def plot_arpack(ax, N1, N2, f, k):\n",
    "    from scipy.sparse.linalg import svds\n",
    "    print \"computing execution times for arpack...\"\n",
    "    t = time_svd(svds, N1, N2, f, k=k, matfunc=csc_matrix)\n",
    "    ax.plot(N1, t, label='arpack (k=%i)' % k)\n",
    "\n",
    "\n",
    "def plot_svdlibc(ax, N1, N2, f, k):\n",
    "    from sparsesvd import sparsesvd\n",
    "    print \"computing execution times for svdlibc...\"\n",
    "    t = time_svd(sparsesvd, N1, N2, f, args=(5,), matfunc=csc_matrix)\n",
    "    ax.plot(N1, t, label='svdlibc (k=%i)' % k)\n",
    "\n",
    "\n",
    "def plot_lapack(ax, N1, N2, f, k):\n",
    "    from scipy.linalg import svd\n",
    "    print \"computing execution times for lapack...\"\n",
    "    t = time_svd(svd, N1, N2, f, full_matrices=False)\n",
    "    ax.plot(N1, t, label='lapack (full)')\n"
   ]
  },
  {
   "cell_type": "code",
   "execution_count": 3,
   "metadata": {
    "collapsed": false
   },
   "outputs": [
    {
     "name": "stdout",
     "output_type": "stream",
     "text": [
      "computing execution times for propack...\n",
      "computing execution times for arpack...\n",
      "computing execution times for svdlibc...\n",
      "computing execution times for lapack...\n"
     ]
    },
    {
     "data": {
      "image/png": "[encoded data removed]",
      "text/plain": [
       "<matplotlib.figure.Figure at 0x10a4f80d0>"
      ]
     },
     "metadata": {},
     "output_type": "display_data"
    }
   ],
   "source": [
    "N = 2 ** np.arange(3, 10)\n",
    "f = 0.6\n",
    "k = 5\n",
    "\n",
    "fig, ax = plt.subplots(subplot_kw=dict(xscale='log', yscale='log'))\n",
    "\n",
    "try:\n",
    "    plot_propack(ax, N, N, f, k)\n",
    "except ImportError:\n",
    "    print \"propack cannot be loaded\"\n",
    "\n",
    "try:\n",
    "    plot_arpack(ax, N, N, f, k)\n",
    "except ImportError:\n",
    "    print \"scipy arpack wrapper cannot be loaded\"\n",
    "\n",
    "try:\n",
    "    plot_svdlibc(ax, N, N, f, k)\n",
    "except ImportError:\n",
    "    print \"svdlibc cannot be loaded\"\n",
    "\n",
    "try:\n",
    "    plot_lapack(ax, N, N, f, k)\n",
    "except ImportError:\n",
    "    print \"scipy lapack wrapper cannot be loaded\"\n",
    "\n",
    "ax.legend(loc=2)\n",
    "ax.set_xlabel('N')\n",
    "ax.set_ylabel('t (s)')\n",
    "ax.set_title('Execution Times for k=5')\n",
    "ax.grid(color='gray')\n",
    "\n",
    "plt.show()\n"
   ]
  },
  {
   "cell_type": "code",
   "execution_count": 49,
   "metadata": {
    "collapsed": false
   },
   "outputs": [],
   "source": [
    "from numpy.linalg import qr\n",
    "from numpy.random import random, RandomState\n"
   ]
  },
  {
   "cell_type": "code",
   "execution_count": 77,
   "metadata": {
    "collapsed": true
   },
   "outputs": [],
   "source": [
    "\n",
    "def err_svd(svdfunc, N1, N2, K, n, M, rseed=0, args=None, matfunc=np.asarray, **kwargs):\n",
    "    if args is None:\n",
    "        args = ()   \n",
    "    S_base = 10.**np.arange(1,-n+1,-1)\n",
    "    err_svd = np.zeros((M,len(K)))\n",
    "    rng = RandomState(rseed)\n",
    "    for i in range(M):\n",
    "        U,_ = qr(rng.rand(N1, n))\n",
    "        V,_ = qr(rng.rand(N2, n))\n",
    "        for j,k in enumerate(K):\n",
    "            S = S_base**k\n",
    "            A = matfunc(np.dot(U,(S*V).T))\n",
    "            try:\n",
    "                u,s,v = svdfunc(A,*args,**kwargs)\n",
    "            except:\n",
    "                print A.todense()\n",
    "                raise\n",
    "            if len(s) < len(S):\n",
    "                s = np.pad(s,len(S)-len(s),'constant', constant_values=0)\n",
    "            s = np.sort(s)[:-(n+1):-1]\n",
    "            try:\n",
    "                err_svd[i,j] = np.linalg.norm(S-s)\n",
    "            except:\n",
    "                print n,s\n",
    "                raise\n",
    "    return err_svd\n",
    "\n",
    "\n",
    "def compute_propack(N1, N2, K, n, M):\n",
    "    from pypropack import svdp\n",
    "    print \"computing svd error for propack...\"\n",
    "    return err_svd(svdp, N1, N2, K, n, M, k=n, kmax=100,\n",
    "                 matfunc=csc_matrix)\n",
    "\n",
    "def compute_arpack(N1, N2, K, n, M):\n",
    "    from scipy.sparse.linalg import svds\n",
    "    print \"computing svd error for arpack...\"\n",
    "    return err_svd(svds, N1, N2, K, n, M, k=n, matfunc=csc_matrix)\n",
    "\n",
    "\n",
    "def compute_svdlibc(N1, N2, K, n, M):\n",
    "    from sparsesvd import sparsesvd\n",
    "    print \"computing svd error for svdlibc...\"\n",
    "    return err_svd(sparsesvd, N1, N2, K, n, M, args=(n,), matfunc=csc_matrix)\n",
    "\n",
    "def compute_lapack(N1, N2, K, n, M):\n",
    "    from scipy.linalg import svd\n",
    "    print \"computing svd error for lapack...\"\n",
    "    return err_svd(svd, N1, N2, K, n, M, full_matrices=False)"
   ]
  },
  {
   "cell_type": "code",
   "execution_count": 78,
   "metadata": {
    "collapsed": false
   },
   "outputs": [
    {
     "name": "stdout",
     "output_type": "stream",
     "text": [
      "computing svd error for lapack...\n",
      "computing svd error for arpack...\n",
      "computing svd error for propack...\n",
      "computing svd error for svdlibc...\n",
      "  (0, 0)\t576.490234134\n",
      "  (1, 0)\t678.40561109\n",
      "  (2, 0)\t831.575895403\n",
      "  (3, 0)\t91.5091537437\n",
      "  (4, 0)\t1027.89828255\n",
      "  (5, 0)\t672.088042812\n",
      "  (6, 0)\t277.962033986\n",
      "  (7, 0)\t648.753818985\n",
      "  (8, 0)\t377.633177922\n",
      "  (9, 0)\t704.358016782\n",
      "  (10, 0)\t598.905892002\n",
      "  (11, 0)\t169.511252814\n",
      "  (12, 0)\t166.97182725\n",
      "  (13, 0)\t387.371435426\n",
      "  (14, 0)\t1025.58105539\n",
      "  (15, 0)\t41.1990297911\n",
      "  (16, 0)\t334.019089122\n",
      "  (17, 0)\t278.799900769\n",
      "  (18, 0)\t334.672512554\n",
      "  (19, 0)\t192.482237746\n",
      "  (20, 0)\t711.906299675\n",
      "  (21, 0)\t605.189041375\n",
      "  (22, 0)\t469.713789218\n",
      "  (23, 0)\t416.55659605\n",
      "  (24, 0)\t761.761928531\n",
      "  :\t:\n",
      "  (0, 9)\t495.337615274\n",
      "  (1, 9)\t582.914998983\n",
      "  (2, 9)\t714.525589027\n",
      "  (3, 9)\t78.6293978897\n",
      "  (4, 9)\t883.211069983\n",
      "  (5, 9)\t577.492886799\n",
      "  (6, 9)\t238.824084967\n",
      "  (7, 9)\t557.432769722\n",
      "  (8, 9)\t324.474372622\n",
      "  (9, 9)\t605.2196286\n",
      "  (10, 9)\t514.60433571\n",
      "  (11, 9)\t145.639649166\n",
      "  (12, 9)\t143.46925182\n",
      "  (13, 9)\t332.833809884\n",
      "  (14, 9)\t881.227055748\n",
      "  (15, 9)\t35.3944767567\n",
      "  (16, 9)\t286.999171433\n",
      "  (17, 9)\t239.549397848\n",
      "  (18, 9)\t287.555211163\n",
      "  (19, 9)\t165.379039058\n",
      "  (20, 9)\t611.70426624\n",
      "  (21, 9)\t519.999884912\n",
      "  (22, 9)\t403.586463653\n",
      "  (23, 9)\t357.910062012\n",
      "  (24, 9)\t654.538083944\n"
     ]
    },
    {
     "ename": "ValueError",
     "evalue": "Invalid shape in axis 0: 0.",
     "output_type": "error",
     "traceback": [
      "\u001b[0;31m---------------------------------------------------------------------------\u001b[0m",
      "\u001b[0;31mValueError\u001b[0m                                Traceback (most recent call last)",
      "\u001b[0;32m<ipython-input-78-9e62b944878e>\u001b[0m in \u001b[0;36m<module>\u001b[0;34m()\u001b[0m\n\u001b[1;32m     14\u001b[0m \u001b[0msvd_err\u001b[0m \u001b[0;34m=\u001b[0m \u001b[0;34m{\u001b[0m\u001b[0;34m}\u001b[0m\u001b[0;34m\u001b[0m\u001b[0m\n\u001b[1;32m     15\u001b[0m \u001b[0;32mfor\u001b[0m \u001b[0mname\u001b[0m\u001b[0;34m,\u001b[0m \u001b[0mcompute_func\u001b[0m \u001b[0;32min\u001b[0m \u001b[0mSVDs\u001b[0m\u001b[0;34m.\u001b[0m\u001b[0mitems\u001b[0m\u001b[0;34m(\u001b[0m\u001b[0;34m)\u001b[0m\u001b[0;34m:\u001b[0m\u001b[0;34m\u001b[0m\u001b[0m\n\u001b[0;32m---> 16\u001b[0;31m     \u001b[0msvd_err\u001b[0m\u001b[0;34m[\u001b[0m\u001b[0mname\u001b[0m\u001b[0;34m]\u001b[0m \u001b[0;34m=\u001b[0m  \u001b[0mcompute_func\u001b[0m\u001b[0;34m(\u001b[0m\u001b[0mN1\u001b[0m\u001b[0;34m,\u001b[0m\u001b[0mN2\u001b[0m\u001b[0;34m,\u001b[0m\u001b[0mK\u001b[0m\u001b[0;34m,\u001b[0m\u001b[0mn\u001b[0m\u001b[0;34m,\u001b[0m\u001b[0mM\u001b[0m\u001b[0;34m)\u001b[0m\u001b[0;34m\u001b[0m\u001b[0m\n\u001b[0m\u001b[1;32m     17\u001b[0m \u001b[0;34m\u001b[0m\u001b[0m\n",
      "\u001b[0;32m<ipython-input-77-81f6e24d933d>\u001b[0m in \u001b[0;36mcompute_svdlibc\u001b[0;34m(N1, N2, K, n, M)\u001b[0m\n\u001b[1;32m     43\u001b[0m     \u001b[0;32mfrom\u001b[0m \u001b[0msparsesvd\u001b[0m \u001b[0;32mimport\u001b[0m \u001b[0msparsesvd\u001b[0m\u001b[0;34m\u001b[0m\u001b[0m\n\u001b[1;32m     44\u001b[0m     \u001b[0;32mprint\u001b[0m \u001b[0;34m\"computing svd error for svdlibc...\"\u001b[0m\u001b[0;34m\u001b[0m\u001b[0m\n\u001b[0;32m---> 45\u001b[0;31m     \u001b[0;32mreturn\u001b[0m \u001b[0merr_svd\u001b[0m\u001b[0;34m(\u001b[0m\u001b[0msparsesvd\u001b[0m\u001b[0;34m,\u001b[0m \u001b[0mN1\u001b[0m\u001b[0;34m,\u001b[0m \u001b[0mN2\u001b[0m\u001b[0;34m,\u001b[0m \u001b[0mK\u001b[0m\u001b[0;34m,\u001b[0m \u001b[0mn\u001b[0m\u001b[0;34m,\u001b[0m \u001b[0mM\u001b[0m\u001b[0;34m,\u001b[0m \u001b[0margs\u001b[0m\u001b[0;34m=\u001b[0m\u001b[0;34m(\u001b[0m\u001b[0mn\u001b[0m\u001b[0;34m,\u001b[0m\u001b[0;34m)\u001b[0m\u001b[0;34m,\u001b[0m \u001b[0mmatfunc\u001b[0m\u001b[0;34m=\u001b[0m\u001b[0mcsc_matrix\u001b[0m\u001b[0;34m)\u001b[0m\u001b[0;34m\u001b[0m\u001b[0m\n\u001b[0m\u001b[1;32m     46\u001b[0m \u001b[0;34m\u001b[0m\u001b[0m\n\u001b[1;32m     47\u001b[0m \u001b[0;32mdef\u001b[0m \u001b[0mcompute_lapack\u001b[0m\u001b[0;34m(\u001b[0m\u001b[0mN1\u001b[0m\u001b[0;34m,\u001b[0m \u001b[0mN2\u001b[0m\u001b[0;34m,\u001b[0m \u001b[0mK\u001b[0m\u001b[0;34m,\u001b[0m \u001b[0mn\u001b[0m\u001b[0;34m,\u001b[0m \u001b[0mM\u001b[0m\u001b[0;34m)\u001b[0m\u001b[0;34m:\u001b[0m\u001b[0;34m\u001b[0m\u001b[0m\n",
      "\u001b[0;32m<ipython-input-77-81f6e24d933d>\u001b[0m in \u001b[0;36merr_svd\u001b[0;34m(svdfunc, N1, N2, K, n, M, rseed, args, matfunc, **kwargs)\u001b[0m\n\u001b[1;32m     13\u001b[0m             \u001b[0mA\u001b[0m \u001b[0;34m=\u001b[0m \u001b[0mmatfunc\u001b[0m\u001b[0;34m(\u001b[0m\u001b[0mnp\u001b[0m\u001b[0;34m.\u001b[0m\u001b[0mdot\u001b[0m\u001b[0;34m(\u001b[0m\u001b[0mU\u001b[0m\u001b[0;34m,\u001b[0m\u001b[0;34m(\u001b[0m\u001b[0mS\u001b[0m\u001b[0;34m*\u001b[0m\u001b[0mV\u001b[0m\u001b[0;34m)\u001b[0m\u001b[0;34m.\u001b[0m\u001b[0mT\u001b[0m\u001b[0;34m)\u001b[0m\u001b[0;34m)\u001b[0m\u001b[0;34m\u001b[0m\u001b[0m\n\u001b[1;32m     14\u001b[0m             \u001b[0;32mtry\u001b[0m\u001b[0;34m:\u001b[0m\u001b[0;34m\u001b[0m\u001b[0m\n\u001b[0;32m---> 15\u001b[0;31m                 \u001b[0mu\u001b[0m\u001b[0;34m,\u001b[0m\u001b[0ms\u001b[0m\u001b[0;34m,\u001b[0m\u001b[0mv\u001b[0m \u001b[0;34m=\u001b[0m \u001b[0msvdfunc\u001b[0m\u001b[0;34m(\u001b[0m\u001b[0mA\u001b[0m\u001b[0;34m,\u001b[0m\u001b[0;34m*\u001b[0m\u001b[0margs\u001b[0m\u001b[0;34m,\u001b[0m\u001b[0;34m**\u001b[0m\u001b[0mkwargs\u001b[0m\u001b[0;34m)\u001b[0m\u001b[0;34m\u001b[0m\u001b[0m\n\u001b[0m\u001b[1;32m     16\u001b[0m             \u001b[0;32mexcept\u001b[0m\u001b[0;34m:\u001b[0m\u001b[0;34m\u001b[0m\u001b[0m\n\u001b[1;32m     17\u001b[0m                 \u001b[0;32mprint\u001b[0m \u001b[0mA\u001b[0m\u001b[0;34m\u001b[0m\u001b[0m\n",
      "\u001b[0;32msparsesvd.pyx\u001b[0m in \u001b[0;36msparsesvd.sparsesvd (sparsesvd.c:2254)\u001b[0;34m()\u001b[0m\n",
      "\u001b[0;32m/usr/local/lib/python2.7/site-packages/sparsesvd.so\u001b[0m in \u001b[0;36mView.MemoryView.array_cwrapper (sparsesvd.c:5987)\u001b[0;34m()\u001b[0m\n",
      "\u001b[0;32m/usr/local/lib/python2.7/site-packages/sparsesvd.so\u001b[0m in \u001b[0;36mView.MemoryView.array.__cinit__ (sparsesvd.c:4912)\u001b[0;34m()\u001b[0m\n",
      "\u001b[0;31mValueError\u001b[0m: Invalid shape in axis 0: 0."
     ]
    }
   ],
   "source": [
    "K = np.arange(.25,16,.25)\n",
    "n = 5\n",
    "M = 100\n",
    "N1 = 25\n",
    "N2 = 10\n",
    "\n",
    "SVDs = {\n",
    "#     'propack' : compute_propack,\n",
    "#     'arpack'  : compute_arpack,\n",
    "    'svdlibc' : compute_svdlibc,\n",
    "#     'lapack'  : compute_lapack\n",
    "}\n",
    "\n",
    "svd_err = {}\n",
    "for name, compute_func in SVDs.items():\n",
    "    svd_err[name] =  compute_func(N1,N2,K,n,M)\n",
    "\n"
   ]
  },
  {
   "cell_type": "code",
   "execution_count": null,
   "metadata": {
    "collapsed": true
   },
   "outputs": [],
   "source": [
    "np.full()"
   ]
  }
 ],
 "metadata": {
  "kernelspec": {
   "display_name": "Python 2",
   "language": "python",
   "name": "python2"
  },
  "language_info": {
   "codemirror_mode": {
    "name": "ipython",
    "version": 2
   },
   "file_extension": ".py",
   "mimetype": "text/x-python",
   "name": "python",
   "nbconvert_exporter": "python",
   "pygments_lexer": "ipython2",
   "version": "2.7.10"
  }
 },
 "nbformat": 4,
 "nbformat_minor": 0
}
