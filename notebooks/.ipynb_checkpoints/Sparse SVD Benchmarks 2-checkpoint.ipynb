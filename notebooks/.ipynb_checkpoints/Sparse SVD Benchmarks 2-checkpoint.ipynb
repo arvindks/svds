{
 "cells": [
  {
   "cell_type": "code",
   "execution_count": 1,
   "metadata": {
    "collapsed": true
   },
   "outputs": [],
   "source": [
    "import numpy as np\n",
    "import matplotlib.pyplot as plt\n",
    "%matplotlib inline\n",
    "\n",
    "from numpy.linalg import qr\n",
    "from numpy.random import random, RandomState\n",
    "from scipy.sparse import csc_matrix"
   ]
  },
  {
   "cell_type": "code",
   "execution_count": 31,
   "metadata": {
    "collapsed": false
   },
   "outputs": [],
   "source": [
    "\n",
    "def err_svd(svdfunc, N1, N2, P, n, M, rseed=0, args=None, matfunc=np.asarray, **kwargs):\n",
    "    if args is None:\n",
    "        args = ()   \n",
    "    S_base = 10.**np.arange(1,-n+1,-1)\n",
    "    err_svd = np.zeros((M,len(P)))\n",
    "    rng = RandomState(rseed)\n",
    "    for i in range(M):\n",
    "        U,_ = qr(rng.rand(N1, n))\n",
    "        V,_ = qr(rng.rand(N2, n))\n",
    "        for j,p in enumerate(P):\n",
    "            S = S_base**p\n",
    "            A = matfunc(np.dot(U,(S*V).T))\n",
    "            try:\n",
    "                u,s,v = svdfunc(A,*args,**kwargs)\n",
    "            except:\n",
    "                print A.todense()\n",
    "                raise\n",
    "            if len(s) < len(S):\n",
    "                s = np.pad(s,len(S)-len(s),'constant', constant_values=0)\n",
    "            s = np.sort(s)[:-(n+1):-1]\n",
    "            try:\n",
    "                err_svd[i,j] = np.linalg.norm(S-s)\n",
    "            except:\n",
    "                print n,s\n",
    "                raise\n",
    "    return err_svd\n",
    "\n",
    "\n",
    "def compute_propack(N1, N2, P, n, M, rseed=0):\n",
    "    from pypropack import svdp\n",
    "    print \"computing svd error for propack...\"\n",
    "    return err_svd(svdp, N1, N2, P, n, M, k=n, kmax=N2, rseed=rseed,\n",
    "                 matfunc=csc_matrix)\n",
    "\n",
    "def compute_arpack(N1, N2, P, n, M, rseed=0):\n",
    "    from scipy.sparse.linalg import svds\n",
    "    print \"computing svd error for arpack...\"\n",
    "    return err_svd(svds, N1, N2, P, n, M, k=n, rseed=rseed, matfunc=csc_matrix)\n",
    "\n",
    "def compute_svdlibc(N1, N2, P, n, M, rseed=0):\n",
    "    from sparsesvd import sparsesvd\n",
    "    print \"computing svd error for svdlibc...\"\n",
    "    return err_svd(sparsesvd, N1, N2, P, n, M, args=(n,), rseed=rseed, matfunc=csc_matrix)\n",
    "\n",
    "def compute_lapack(N1, N2, P, n, M, rseed=0):\n",
    "    from scipy.linalg import svd\n",
    "    print \"computing svd error for lapack...\"\n",
    "    return err_svd(svd, N1, N2, P, n, M, rseed=rseed, full_matrices=False)"
   ]
  },
  {
   "cell_type": "code",
   "execution_count": 34,
   "metadata": {
    "collapsed": false
   },
   "outputs": [
    {
     "name": "stdout",
     "output_type": "stream",
     "text": [
      "computing svd error for lapack...\n",
      "computing svd error for arpack...\n",
      "computing svd error for propack...\n"
     ]
    }
   ],
   "source": [
    "P = np.arange(.25,16,.25)\n",
    "n = 4\n",
    "M = 100\n",
    "N1 = 25\n",
    "N2 = 10\n",
    "rseed = 1\n",
    "\n",
    "SVDs = {\n",
    "    'propack' : compute_propack,\n",
    "    'arpack'  : compute_arpack,\n",
    "#     'svdlibc' : compute_svdlibc,\n",
    "    'lapack'  : compute_lapack\n",
    "}\n",
    "\n",
    "svd_err = {}\n",
    "for name, compute_func in SVDs.items():\n",
    "    svd_err[name] =  compute_func(N1,N2,P,n,M,rseed=rseed)"
   ]
  },
  {
   "cell_type": "code",
   "execution_count": 35,
   "metadata": {
    "collapsed": false
   },
   "outputs": [
    {
     "data": {
      "image/png": "[encoded data removed]",
      "text/plain": [
       "<matplotlib.figure.Figure at 0x11a7910d0>"
      ]
     },
     "metadata": {},
     "output_type": "display_data"
    }
   ],
   "source": [
    "fig, ax = plt.subplots(subplot_kw=dict(xscale='log', yscale='log'))\n",
    "\n",
    "for name, err in svd_err.items():\n",
    "    ax.plot(10**K,np.median(err,axis=0),label=name)\n",
    "\n",
    "ax.legend(loc=4);\n",
    "ax.set_xlabel('Singular Gap');\n",
    "ax.set_ylabel('SV Error');\n",
    "ax.set_title('Median SV Error for k={0}'.format(n));\n"
   ]
  }
 ],
 "metadata": {
  "kernelspec": {
   "display_name": "Python 2",
   "language": "python",
   "name": "python2"
  },
  "language_info": {
   "codemirror_mode": {
    "name": "ipython",
    "version": 2
   },
   "file_extension": ".py",
   "mimetype": "text/x-python",
   "name": "python",
   "nbconvert_exporter": "python",
   "pygments_lexer": "ipython2",
   "version": "2.7.10"
  }
 },
 "nbformat": 4,
 "nbformat_minor": 0
}
